{
  "nbformat": 4,
  "nbformat_minor": 0,
  "metadata": {
    "colab": {
      "provenance": []
    },
    "kernelspec": {
      "name": "python3",
      "display_name": "Python 3"
    },
    "language_info": {
      "name": "python"
    }
  },
  "cells": [
    {
      "cell_type": "code",
      "execution_count": 6,
      "metadata": {
        "id": "6T1xUil22ym6"
      },
      "outputs": [],
      "source": [
        "import pandas as pd\n",
        "from sklearn.model_selection import train_test_split\n",
        "from sklearn.preprocessing import LabelEncoder\n",
        "from sklearn.ensemble import RandomForestClassifier\n",
        "from sklearn.metrics import classification_report\n",
        "from sklearn.linear_model import LogisticRegression\n",
        "from imblearn.over_sampling import SMOTE\n",
        "from sklearn.metrics import accuracy_score\n"
      ]
    },
    {
      "cell_type": "code",
      "source": [
        "df = pd.read_csv('/content/bank-additional-full.csv', sep=';')\n",
        "print(df)"
      ],
      "metadata": {
        "colab": {
          "base_uri": "https://localhost:8080/"
        },
        "id": "hN3y868-4zxP",
        "outputId": "beb4f2f8-3709-4a04-d8fe-90dfa3ba2bf9"
      },
      "execution_count": 7,
      "outputs": [
        {
          "output_type": "stream",
          "name": "stdout",
          "text": [
            "       age          job  marital            education  default housing loan  \\\n",
            "0       56    housemaid  married             basic.4y       no      no   no   \n",
            "1       57     services  married          high.school  unknown      no   no   \n",
            "2       37     services  married          high.school       no     yes   no   \n",
            "3       40       admin.  married             basic.6y       no      no   no   \n",
            "4       56     services  married          high.school       no      no  yes   \n",
            "...    ...          ...      ...                  ...      ...     ...  ...   \n",
            "41183   73      retired  married  professional.course       no     yes   no   \n",
            "41184   46  blue-collar  married  professional.course       no      no   no   \n",
            "41185   56      retired  married    university.degree       no     yes   no   \n",
            "41186   44   technician  married  professional.course       no      no   no   \n",
            "41187   74      retired  married  professional.course       no     yes   no   \n",
            "\n",
            "         contact month day_of_week  ...  campaign  pdays  previous  \\\n",
            "0      telephone   may         mon  ...         1    999         0   \n",
            "1      telephone   may         mon  ...         1    999         0   \n",
            "2      telephone   may         mon  ...         1    999         0   \n",
            "3      telephone   may         mon  ...         1    999         0   \n",
            "4      telephone   may         mon  ...         1    999         0   \n",
            "...          ...   ...         ...  ...       ...    ...       ...   \n",
            "41183   cellular   nov         fri  ...         1    999         0   \n",
            "41184   cellular   nov         fri  ...         1    999         0   \n",
            "41185   cellular   nov         fri  ...         2    999         0   \n",
            "41186   cellular   nov         fri  ...         1    999         0   \n",
            "41187   cellular   nov         fri  ...         3    999         1   \n",
            "\n",
            "          poutcome emp.var.rate  cons.price.idx  cons.conf.idx  euribor3m  \\\n",
            "0      nonexistent          1.1          93.994          -36.4      4.857   \n",
            "1      nonexistent          1.1          93.994          -36.4      4.857   \n",
            "2      nonexistent          1.1          93.994          -36.4      4.857   \n",
            "3      nonexistent          1.1          93.994          -36.4      4.857   \n",
            "4      nonexistent          1.1          93.994          -36.4      4.857   \n",
            "...            ...          ...             ...            ...        ...   \n",
            "41183  nonexistent         -1.1          94.767          -50.8      1.028   \n",
            "41184  nonexistent         -1.1          94.767          -50.8      1.028   \n",
            "41185  nonexistent         -1.1          94.767          -50.8      1.028   \n",
            "41186  nonexistent         -1.1          94.767          -50.8      1.028   \n",
            "41187      failure         -1.1          94.767          -50.8      1.028   \n",
            "\n",
            "       nr.employed    y  \n",
            "0           5191.0   no  \n",
            "1           5191.0   no  \n",
            "2           5191.0   no  \n",
            "3           5191.0   no  \n",
            "4           5191.0   no  \n",
            "...            ...  ...  \n",
            "41183       4963.6  yes  \n",
            "41184       4963.6   no  \n",
            "41185       4963.6   no  \n",
            "41186       4963.6  yes  \n",
            "41187       4963.6   no  \n",
            "\n",
            "[41188 rows x 21 columns]\n"
          ]
        }
      ]
    },
    {
      "cell_type": "code",
      "source": [
        "le = LabelEncoder()\n",
        "categorical_features = ['job', 'marital', 'education', 'default', 'housing', 'loan', 'contact', 'month', 'day_of_week', 'poutcome']\n",
        "for feature in categorical_features:\n",
        "    df[feature] = le.fit_transform(df[feature])"
      ],
      "metadata": {
        "id": "2t4T3RK848MM"
      },
      "execution_count": 8,
      "outputs": []
    },
    {
      "cell_type": "code",
      "source": [
        "X = df.drop('y', axis=1)\n",
        "y = df['y']\n",
        "\n",
        "over_sampler = SMOTE()\n",
        "X, y = over_sampler.fit_resample(X, y)\n",
        "\n",
        "X_train, X_test, y_train, y_test = train_test_split(X, y, test_size=0.2, random_state=42)\n",
        "\n"
      ],
      "metadata": {
        "id": "O2Yb8-k_5A44"
      },
      "execution_count": 9,
      "outputs": []
    },
    {
      "cell_type": "code",
      "source": [
        "rf = RandomForestClassifier()\n",
        "rf.fit(X_train, y_train)\n",
        "\n",
        "lr = LogisticRegression()\n",
        "lr.fit(X_train, y_train)\n",
        "\n"
      ],
      "metadata": {
        "colab": {
          "base_uri": "https://localhost:8080/",
          "height": 233
        },
        "id": "wX4-VM9j5EK_",
        "outputId": "a7d522b5-9fdd-4f30-d6cd-b788c359e3cb"
      },
      "execution_count": 10,
      "outputs": [
        {
          "output_type": "stream",
          "name": "stderr",
          "text": [
            "/usr/local/lib/python3.10/dist-packages/sklearn/linear_model/_logistic.py:458: ConvergenceWarning: lbfgs failed to converge (status=1):\n",
            "STOP: TOTAL NO. of ITERATIONS REACHED LIMIT.\n",
            "\n",
            "Increase the number of iterations (max_iter) or scale the data as shown in:\n",
            "    https://scikit-learn.org/stable/modules/preprocessing.html\n",
            "Please also refer to the documentation for alternative solver options:\n",
            "    https://scikit-learn.org/stable/modules/linear_model.html#logistic-regression\n",
            "  n_iter_i = _check_optimize_result(\n"
          ]
        },
        {
          "output_type": "execute_result",
          "data": {
            "text/plain": [
              "LogisticRegression()"
            ],
            "text/html": [
              "<style>#sk-container-id-1 {color: black;background-color: white;}#sk-container-id-1 pre{padding: 0;}#sk-container-id-1 div.sk-toggleable {background-color: white;}#sk-container-id-1 label.sk-toggleable__label {cursor: pointer;display: block;width: 100%;margin-bottom: 0;padding: 0.3em;box-sizing: border-box;text-align: center;}#sk-container-id-1 label.sk-toggleable__label-arrow:before {content: \"▸\";float: left;margin-right: 0.25em;color: #696969;}#sk-container-id-1 label.sk-toggleable__label-arrow:hover:before {color: black;}#sk-container-id-1 div.sk-estimator:hover label.sk-toggleable__label-arrow:before {color: black;}#sk-container-id-1 div.sk-toggleable__content {max-height: 0;max-width: 0;overflow: hidden;text-align: left;background-color: #f0f8ff;}#sk-container-id-1 div.sk-toggleable__content pre {margin: 0.2em;color: black;border-radius: 0.25em;background-color: #f0f8ff;}#sk-container-id-1 input.sk-toggleable__control:checked~div.sk-toggleable__content {max-height: 200px;max-width: 100%;overflow: auto;}#sk-container-id-1 input.sk-toggleable__control:checked~label.sk-toggleable__label-arrow:before {content: \"▾\";}#sk-container-id-1 div.sk-estimator input.sk-toggleable__control:checked~label.sk-toggleable__label {background-color: #d4ebff;}#sk-container-id-1 div.sk-label input.sk-toggleable__control:checked~label.sk-toggleable__label {background-color: #d4ebff;}#sk-container-id-1 input.sk-hidden--visually {border: 0;clip: rect(1px 1px 1px 1px);clip: rect(1px, 1px, 1px, 1px);height: 1px;margin: -1px;overflow: hidden;padding: 0;position: absolute;width: 1px;}#sk-container-id-1 div.sk-estimator {font-family: monospace;background-color: #f0f8ff;border: 1px dotted black;border-radius: 0.25em;box-sizing: border-box;margin-bottom: 0.5em;}#sk-container-id-1 div.sk-estimator:hover {background-color: #d4ebff;}#sk-container-id-1 div.sk-parallel-item::after {content: \"\";width: 100%;border-bottom: 1px solid gray;flex-grow: 1;}#sk-container-id-1 div.sk-label:hover label.sk-toggleable__label {background-color: #d4ebff;}#sk-container-id-1 div.sk-serial::before {content: \"\";position: absolute;border-left: 1px solid gray;box-sizing: border-box;top: 0;bottom: 0;left: 50%;z-index: 0;}#sk-container-id-1 div.sk-serial {display: flex;flex-direction: column;align-items: center;background-color: white;padding-right: 0.2em;padding-left: 0.2em;position: relative;}#sk-container-id-1 div.sk-item {position: relative;z-index: 1;}#sk-container-id-1 div.sk-parallel {display: flex;align-items: stretch;justify-content: center;background-color: white;position: relative;}#sk-container-id-1 div.sk-item::before, #sk-container-id-1 div.sk-parallel-item::before {content: \"\";position: absolute;border-left: 1px solid gray;box-sizing: border-box;top: 0;bottom: 0;left: 50%;z-index: -1;}#sk-container-id-1 div.sk-parallel-item {display: flex;flex-direction: column;z-index: 1;position: relative;background-color: white;}#sk-container-id-1 div.sk-parallel-item:first-child::after {align-self: flex-end;width: 50%;}#sk-container-id-1 div.sk-parallel-item:last-child::after {align-self: flex-start;width: 50%;}#sk-container-id-1 div.sk-parallel-item:only-child::after {width: 0;}#sk-container-id-1 div.sk-dashed-wrapped {border: 1px dashed gray;margin: 0 0.4em 0.5em 0.4em;box-sizing: border-box;padding-bottom: 0.4em;background-color: white;}#sk-container-id-1 div.sk-label label {font-family: monospace;font-weight: bold;display: inline-block;line-height: 1.2em;}#sk-container-id-1 div.sk-label-container {text-align: center;}#sk-container-id-1 div.sk-container {/* jupyter's `normalize.less` sets `[hidden] { display: none; }` but bootstrap.min.css set `[hidden] { display: none !important; }` so we also need the `!important` here to be able to override the default hidden behavior on the sphinx rendered scikit-learn.org. See: https://github.com/scikit-learn/scikit-learn/issues/21755 */display: inline-block !important;position: relative;}#sk-container-id-1 div.sk-text-repr-fallback {display: none;}</style><div id=\"sk-container-id-1\" class=\"sk-top-container\"><div class=\"sk-text-repr-fallback\"><pre>LogisticRegression()</pre><b>In a Jupyter environment, please rerun this cell to show the HTML representation or trust the notebook. <br />On GitHub, the HTML representation is unable to render, please try loading this page with nbviewer.org.</b></div><div class=\"sk-container\" hidden><div class=\"sk-item\"><div class=\"sk-estimator sk-toggleable\"><input class=\"sk-toggleable__control sk-hidden--visually\" id=\"sk-estimator-id-1\" type=\"checkbox\" checked><label for=\"sk-estimator-id-1\" class=\"sk-toggleable__label sk-toggleable__label-arrow\">LogisticRegression</label><div class=\"sk-toggleable__content\"><pre>LogisticRegression()</pre></div></div></div></div></div>"
            ]
          },
          "metadata": {},
          "execution_count": 10
        }
      ]
    },
    {
      "cell_type": "code",
      "source": [
        "# Accuracy score for random forest\n",
        "rf_acc = accuracy_score(y_test, rf_pred)\n",
        "print(\"Random Forest Accuracy:\", rf_acc*100,\"%\")\n",
        "\n",
        "# Accuracy score for logistic regression\n",
        "lr_acc = accuracy_score(y_test, lr_pred)\n",
        "print(\"Logistic Regression Accuracy:\", lr_acc*100,\"%\")\n"
      ],
      "metadata": {
        "colab": {
          "base_uri": "https://localhost:8080/"
        },
        "id": "7AX-1NhSYJHh",
        "outputId": "feb663f3-1082-43ba-ff15-68c4ebf05f4b"
      },
      "execution_count": 18,
      "outputs": [
        {
          "output_type": "stream",
          "name": "stdout",
          "text": [
            "Random Forest Accuracy: 95.30095759233926 %\n",
            "Logistic Regression Accuracy: 86.484268125855 %\n"
          ]
        }
      ]
    },
    {
      "cell_type": "code",
      "source": [
        "rf_pred = rf.predict(X_test)\n",
        "lr_pred = lr.predict(X_test)\n",
        "\n",
        "print(\"Random Forest Classification Report:\")\n",
        "print(classification_report(y_test, rf_pred))\n",
        "\n",
        "print(\"Logistic Regression Classification Report:\")\n",
        "print(classification_report(y_test, lr_pred))\n"
      ],
      "metadata": {
        "colab": {
          "base_uri": "https://localhost:8080/"
        },
        "id": "JdtSTbwQ5Ogv",
        "outputId": "6980ee3b-48fd-4e52-f020-c4547c802115"
      },
      "execution_count": 11,
      "outputs": [
        {
          "output_type": "stream",
          "name": "stdout",
          "text": [
            "Random Forest Classification Report:\n",
            "              precision    recall  f1-score   support\n",
            "\n",
            "          no       0.97      0.94      0.95      7332\n",
            "         yes       0.94      0.97      0.95      7288\n",
            "\n",
            "    accuracy                           0.95     14620\n",
            "   macro avg       0.95      0.95      0.95     14620\n",
            "weighted avg       0.95      0.95      0.95     14620\n",
            "\n",
            "Logistic Regression Classification Report:\n",
            "              precision    recall  f1-score   support\n",
            "\n",
            "          no       0.87      0.85      0.86      7332\n",
            "         yes       0.86      0.88      0.87      7288\n",
            "\n",
            "    accuracy                           0.86     14620\n",
            "   macro avg       0.87      0.86      0.86     14620\n",
            "weighted avg       0.87      0.86      0.86     14620\n",
            "\n"
          ]
        }
      ]
    }
  ]
}